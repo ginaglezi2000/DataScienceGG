{
 "cells": [
  {
   "cell_type": "code",
   "execution_count": 1,
   "metadata": {},
   "outputs": [],
   "source": [
    "import scipy.stats as scs\n",
    "import requests\n",
    "import numpy as np\n",
    "import pandas as pd"
   ]
  },
  {
   "cell_type": "markdown",
   "metadata": {},
   "source": [
    "## Cancer recurrency rates comparison (chemo VS non-chemo)\n",
    "Authors on Climent et al. assessed recurrency after chemotherapy in breast cancer patients with negative lymph nodes. The difference in the rate of recurrency after chemotherapy was not found to be significant. In this notebook we are going to replicate that result.\n",
    "\n",
    "### Data\n",
    "185 patients with lymph node–negative breast cancer. Biopsies were selected randomly from a pool of cryopreserved tumors from 1979 to 2000 at the University of Valencia if they complied with the following: a) invasive breast carcinoma of any size; b) mastectomy or surgery with or without radiotherapy; c) negative lymph-node d) complete clinical data e) 50% or more tumor cells in sample. Data is public and available at http://www.ncbi.nlm.nih.gov/geo/download/?acc=GSE6448   \n",
    "\n",
    "### Reference:\n",
    "Climent J et al. (2007) Deletion of chromosome 11q predicts response to anthracycline-based chemotherapy in early breast cancer. Cancer Research 67: 818-826."
   ]
  },
  {
   "cell_type": "markdown",
   "metadata": {},
   "source": [
    "### Retrieving the data"
   ]
  },
  {
   "cell_type": "markdown",
   "metadata": {},
   "source": [
    "Download the compressed file to unpack it (Need to run only once)"
   ]
  },
  {
   "cell_type": "code",
   "execution_count": 95,
   "metadata": {},
   "outputs": [
    {
     "data": {
      "text/plain": [
       "2999132"
      ]
     },
     "execution_count": 95,
     "metadata": {},
     "output_type": "execute_result"
    }
   ],
   "source": [
    "url = 'https://ftp.ncbi.nlm.nih.gov/geo/series/GSE6nnn/GSE6448/miniml/GSE6448_family.xml.tgz'\n",
    "r = requests.get(url, allow_redirects=True)\n",
    "open('GSE6448_family.xml.tgz', 'wb').write(r.content)"
   ]
  },
  {
   "cell_type": "markdown",
   "metadata": {},
   "source": [
    "Unpack only the file of interest"
   ]
  },
  {
   "cell_type": "code",
   "execution_count": 104,
   "metadata": {},
   "outputs": [
    {
     "name": "stdout",
     "output_type": "stream",
     "text": [
      "x GSE6448-tbl-1.txt\r\n"
     ]
    }
   ],
   "source": [
    "!tar -zxvf GSE6448_family.xml.tgz GSE6448-tbl-1.txt"
   ]
  },
  {
   "cell_type": "code",
   "execution_count": 3,
   "metadata": {},
   "outputs": [],
   "source": [
    "columns = ['Id', 'TumorNo', 'Age', 'HormStatus', 'TNM', 'Stage', 'Gender', 'Recurrence', 'Treatment', 'DFSmonths', 'ERpos', 'PRpos']"
   ]
  },
  {
   "cell_type": "code",
   "execution_count": 32,
   "metadata": {},
   "outputs": [],
   "source": [
    "clim_table = 'GSE6448-tbl-1.txt'\n",
    "clim = pd.read_csv(clim_table,sep='\\t',header=None, names = columns, usecols=list(range(1,12)))"
   ]
  },
  {
   "cell_type": "code",
   "execution_count": 31,
   "metadata": {},
   "outputs": [
    {
     "data": {
      "text/html": [
       "<div>\n",
       "<style scoped>\n",
       "    .dataframe tbody tr th:only-of-type {\n",
       "        vertical-align: middle;\n",
       "    }\n",
       "\n",
       "    .dataframe tbody tr th {\n",
       "        vertical-align: top;\n",
       "    }\n",
       "\n",
       "    .dataframe thead th {\n",
       "        text-align: right;\n",
       "    }\n",
       "</style>\n",
       "<table border=\"1\" class=\"dataframe\">\n",
       "  <thead>\n",
       "    <tr style=\"text-align: right;\">\n",
       "      <th></th>\n",
       "      <th>TumorNo</th>\n",
       "      <th>Age</th>\n",
       "      <th>HormStatus</th>\n",
       "      <th>TNM</th>\n",
       "      <th>Stage</th>\n",
       "      <th>Gender</th>\n",
       "      <th>Recurrence</th>\n",
       "      <th>Treatment</th>\n",
       "      <th>DFSmonths</th>\n",
       "      <th>ERpos</th>\n",
       "      <th>PRpos</th>\n",
       "    </tr>\n",
       "  </thead>\n",
       "  <tbody>\n",
       "    <tr>\n",
       "      <th>0</th>\n",
       "      <td>19</td>\n",
       "      <td>35</td>\n",
       "      <td>PREMENOPAUSIC</td>\n",
       "      <td>T1N0M0</td>\n",
       "      <td>I</td>\n",
       "      <td>FEMALE</td>\n",
       "      <td>1</td>\n",
       "      <td>ADCHEM: Anthracycline</td>\n",
       "      <td>166.03</td>\n",
       "      <td>NEGATIVE</td>\n",
       "      <td>POSITIVE</td>\n",
       "    </tr>\n",
       "    <tr>\n",
       "      <th>1</th>\n",
       "      <td>49</td>\n",
       "      <td>49</td>\n",
       "      <td>PREMENOPAUSIC</td>\n",
       "      <td>T1N0M0</td>\n",
       "      <td>I</td>\n",
       "      <td>FEMALE</td>\n",
       "      <td>1</td>\n",
       "      <td>ADCHEM: Anthracycline</td>\n",
       "      <td>67.20</td>\n",
       "      <td>POSITIVE</td>\n",
       "      <td>POSITIVE</td>\n",
       "    </tr>\n",
       "    <tr>\n",
       "      <th>2</th>\n",
       "      <td>139</td>\n",
       "      <td>71</td>\n",
       "      <td>POSTMENOPAUSIC</td>\n",
       "      <td>T2N0M0</td>\n",
       "      <td>II</td>\n",
       "      <td>FEMALE</td>\n",
       "      <td>0</td>\n",
       "      <td>ADCHEM: Anthracycline</td>\n",
       "      <td>170.90</td>\n",
       "      <td>POSITIVE</td>\n",
       "      <td>POSITIVE</td>\n",
       "    </tr>\n",
       "    <tr>\n",
       "      <th>3</th>\n",
       "      <td>154</td>\n",
       "      <td>42</td>\n",
       "      <td>PREMENOPAUSIC</td>\n",
       "      <td>T1N0M0</td>\n",
       "      <td>I</td>\n",
       "      <td>FEMALE</td>\n",
       "      <td>0</td>\n",
       "      <td>ADCHEM: Anthracycline</td>\n",
       "      <td>173.60</td>\n",
       "      <td>NEGATIVE</td>\n",
       "      <td>POSITIVE</td>\n",
       "    </tr>\n",
       "    <tr>\n",
       "      <th>4</th>\n",
       "      <td>203</td>\n",
       "      <td>29</td>\n",
       "      <td>PREMENOPAUSIC</td>\n",
       "      <td>T2N0M0</td>\n",
       "      <td>II</td>\n",
       "      <td>FEMALE</td>\n",
       "      <td>1</td>\n",
       "      <td>ADCHEM: Anthracycline</td>\n",
       "      <td>153.37</td>\n",
       "      <td>NEGATIVE</td>\n",
       "      <td>NEGATIVE</td>\n",
       "    </tr>\n",
       "  </tbody>\n",
       "</table>\n",
       "</div>"
      ],
      "text/plain": [
       "   TumorNo  Age      HormStatus     TNM Stage  Gender  Recurrence  \\\n",
       "0       19   35   PREMENOPAUSIC  T1N0M0     I  FEMALE           1   \n",
       "1       49   49   PREMENOPAUSIC  T1N0M0     I  FEMALE           1   \n",
       "2      139   71  POSTMENOPAUSIC  T2N0M0    II  FEMALE           0   \n",
       "3      154   42   PREMENOPAUSIC  T1N0M0     I  FEMALE           0   \n",
       "4      203   29   PREMENOPAUSIC  T2N0M0    II  FEMALE           1   \n",
       "\n",
       "               Treatment  DFSmonths     ERpos     PRpos  \n",
       "0  ADCHEM: Anthracycline     166.03  NEGATIVE  POSITIVE  \n",
       "1  ADCHEM: Anthracycline      67.20  POSITIVE  POSITIVE  \n",
       "2  ADCHEM: Anthracycline     170.90  POSITIVE  POSITIVE  \n",
       "3  ADCHEM: Anthracycline     173.60  NEGATIVE  POSITIVE  \n",
       "4  ADCHEM: Anthracycline     153.37  NEGATIVE  NEGATIVE  "
      ]
     },
     "execution_count": 31,
     "metadata": {},
     "output_type": "execute_result"
    }
   ],
   "source": [
    "clim.head()"
   ]
  },
  {
   "cell_type": "markdown",
   "metadata": {},
   "source": [
    "### Data\n",
    "From the 185 women, 90 received anthracycline-based chemotherapy (CHEMO group) and 95 did not. The mayority of those with positive ER or PR tumor also received tamoxifen (Chemo or not). Some patients did not receive any treatment\n"
   ]
  },
  {
   "cell_type": "code",
   "execution_count": 33,
   "metadata": {},
   "outputs": [
    {
     "data": {
      "text/html": [
       "<div>\n",
       "<style scoped>\n",
       "    .dataframe tbody tr th:only-of-type {\n",
       "        vertical-align: middle;\n",
       "    }\n",
       "\n",
       "    .dataframe tbody tr th {\n",
       "        vertical-align: top;\n",
       "    }\n",
       "\n",
       "    .dataframe thead th {\n",
       "        text-align: right;\n",
       "    }\n",
       "</style>\n",
       "<table border=\"1\" class=\"dataframe\">\n",
       "  <thead>\n",
       "    <tr style=\"text-align: right;\">\n",
       "      <th></th>\n",
       "      <th>Treatment</th>\n",
       "      <th>ADCHEM: Anthracycline</th>\n",
       "      <th>ADH:Tamoxifen</th>\n",
       "      <th>No Treatment</th>\n",
       "    </tr>\n",
       "    <tr>\n",
       "      <th>ERpos</th>\n",
       "      <th>PRpos</th>\n",
       "      <th></th>\n",
       "      <th></th>\n",
       "      <th></th>\n",
       "    </tr>\n",
       "  </thead>\n",
       "  <tbody>\n",
       "    <tr>\n",
       "      <th>.</th>\n",
       "      <th>.</th>\n",
       "      <td>1</td>\n",
       "      <td>1</td>\n",
       "      <td>0</td>\n",
       "    </tr>\n",
       "    <tr>\n",
       "      <th rowspan=\"2\" valign=\"top\">NEGATIVE</th>\n",
       "      <th>NEGATIVE</th>\n",
       "      <td>24</td>\n",
       "      <td>4</td>\n",
       "      <td>14</td>\n",
       "    </tr>\n",
       "    <tr>\n",
       "      <th>POSITIVE</th>\n",
       "      <td>9</td>\n",
       "      <td>6</td>\n",
       "      <td>3</td>\n",
       "    </tr>\n",
       "    <tr>\n",
       "      <th rowspan=\"2\" valign=\"top\">POSITIVE</th>\n",
       "      <th>NEGATIVE</th>\n",
       "      <td>8</td>\n",
       "      <td>11</td>\n",
       "      <td>4</td>\n",
       "    </tr>\n",
       "    <tr>\n",
       "      <th>POSITIVE</th>\n",
       "      <td>34</td>\n",
       "      <td>29</td>\n",
       "      <td>15</td>\n",
       "    </tr>\n",
       "  </tbody>\n",
       "</table>\n",
       "</div>"
      ],
      "text/plain": [
       "Treatment          ADCHEM: Anthracycline  ADH:Tamoxifen  No Treatment\n",
       "ERpos    PRpos                                                       \n",
       ".        .                             1              1             0\n",
       "NEGATIVE NEGATIVE                     24              4            14\n",
       "         POSITIVE                      9              6             3\n",
       "POSITIVE NEGATIVE                      8             11             4\n",
       "         POSITIVE                     34             29            15"
      ]
     },
     "execution_count": 33,
     "metadata": {},
     "output_type": "execute_result"
    }
   ],
   "source": [
    "pd.crosstab([clim.ERpos, clim.PRpos],clim.Treatment)"
   ]
  },
  {
   "cell_type": "markdown",
   "metadata": {},
   "source": [
    "Table above shows two samples with an incorrect value of \".\" for ERpos and PRpos that should be recoded as missing values. Let's take care of that."
   ]
  },
  {
   "cell_type": "code",
   "execution_count": 34,
   "metadata": {},
   "outputs": [],
   "source": [
    "clim.ERpos = clim.ERpos.replace('.',np.nan)\n",
    "clim.PRpos = clim.PRpos.replace('.',np.nan)"
   ]
  },
  {
   "cell_type": "code",
   "execution_count": 35,
   "metadata": {},
   "outputs": [
    {
     "data": {
      "text/html": [
       "<div>\n",
       "<style scoped>\n",
       "    .dataframe tbody tr th:only-of-type {\n",
       "        vertical-align: middle;\n",
       "    }\n",
       "\n",
       "    .dataframe tbody tr th {\n",
       "        vertical-align: top;\n",
       "    }\n",
       "\n",
       "    .dataframe thead th {\n",
       "        text-align: right;\n",
       "    }\n",
       "</style>\n",
       "<table border=\"1\" class=\"dataframe\">\n",
       "  <thead>\n",
       "    <tr style=\"text-align: right;\">\n",
       "      <th></th>\n",
       "      <th>Treatment</th>\n",
       "      <th>ADCHEM: Anthracycline</th>\n",
       "      <th>ADH:Tamoxifen</th>\n",
       "      <th>No Treatment</th>\n",
       "    </tr>\n",
       "    <tr>\n",
       "      <th>ERpos</th>\n",
       "      <th>PRpos</th>\n",
       "      <th></th>\n",
       "      <th></th>\n",
       "      <th></th>\n",
       "    </tr>\n",
       "  </thead>\n",
       "  <tbody>\n",
       "    <tr>\n",
       "      <th rowspan=\"2\" valign=\"top\">NEGATIVE</th>\n",
       "      <th>NEGATIVE</th>\n",
       "      <td>24</td>\n",
       "      <td>4</td>\n",
       "      <td>14</td>\n",
       "    </tr>\n",
       "    <tr>\n",
       "      <th>POSITIVE</th>\n",
       "      <td>9</td>\n",
       "      <td>6</td>\n",
       "      <td>3</td>\n",
       "    </tr>\n",
       "    <tr>\n",
       "      <th rowspan=\"2\" valign=\"top\">POSITIVE</th>\n",
       "      <th>NEGATIVE</th>\n",
       "      <td>8</td>\n",
       "      <td>11</td>\n",
       "      <td>4</td>\n",
       "    </tr>\n",
       "    <tr>\n",
       "      <th>POSITIVE</th>\n",
       "      <td>34</td>\n",
       "      <td>29</td>\n",
       "      <td>15</td>\n",
       "    </tr>\n",
       "  </tbody>\n",
       "</table>\n",
       "</div>"
      ],
      "text/plain": [
       "Treatment          ADCHEM: Anthracycline  ADH:Tamoxifen  No Treatment\n",
       "ERpos    PRpos                                                       \n",
       "NEGATIVE NEGATIVE                     24              4            14\n",
       "         POSITIVE                      9              6             3\n",
       "POSITIVE NEGATIVE                      8             11             4\n",
       "         POSITIVE                     34             29            15"
      ]
     },
     "execution_count": 35,
     "metadata": {},
     "output_type": "execute_result"
    }
   ],
   "source": [
    "pd.crosstab([clim.ERpos, clim.PRpos],clim.Treatment)"
   ]
  },
  {
   "cell_type": "markdown",
   "metadata": {},
   "source": [
    "Let's create the Chemo group"
   ]
  },
  {
   "cell_type": "code",
   "execution_count": 36,
   "metadata": {},
   "outputs": [],
   "source": [
    "clim['Chemo']=clim.Treatment\n",
    "dicothomic = {'ADCHEM: Anthracycline': 'Chemo', 'ADH:Tamoxifen': 'NoChemo', 'No Treatment': 'NoChemo'}\n",
    "clim['Chemo']=clim.Chemo.replace(dicothomic)"
   ]
  },
  {
   "cell_type": "code",
   "execution_count": 37,
   "metadata": {},
   "outputs": [
    {
     "data": {
      "text/html": [
       "<div>\n",
       "<style scoped>\n",
       "    .dataframe tbody tr th:only-of-type {\n",
       "        vertical-align: middle;\n",
       "    }\n",
       "\n",
       "    .dataframe tbody tr th {\n",
       "        vertical-align: top;\n",
       "    }\n",
       "\n",
       "    .dataframe thead th {\n",
       "        text-align: right;\n",
       "    }\n",
       "</style>\n",
       "<table border=\"1\" class=\"dataframe\">\n",
       "  <thead>\n",
       "    <tr style=\"text-align: right;\">\n",
       "      <th></th>\n",
       "      <th>Chemo</th>\n",
       "      <th>Chemo</th>\n",
       "      <th>NoChemo</th>\n",
       "    </tr>\n",
       "    <tr>\n",
       "      <th>ERpos</th>\n",
       "      <th>PRpos</th>\n",
       "      <th></th>\n",
       "      <th></th>\n",
       "    </tr>\n",
       "  </thead>\n",
       "  <tbody>\n",
       "    <tr>\n",
       "      <th rowspan=\"2\" valign=\"top\">NEGATIVE</th>\n",
       "      <th>NEGATIVE</th>\n",
       "      <td>24</td>\n",
       "      <td>18</td>\n",
       "    </tr>\n",
       "    <tr>\n",
       "      <th>POSITIVE</th>\n",
       "      <td>9</td>\n",
       "      <td>9</td>\n",
       "    </tr>\n",
       "    <tr>\n",
       "      <th rowspan=\"2\" valign=\"top\">POSITIVE</th>\n",
       "      <th>NEGATIVE</th>\n",
       "      <td>8</td>\n",
       "      <td>15</td>\n",
       "    </tr>\n",
       "    <tr>\n",
       "      <th>POSITIVE</th>\n",
       "      <td>34</td>\n",
       "      <td>44</td>\n",
       "    </tr>\n",
       "  </tbody>\n",
       "</table>\n",
       "</div>"
      ],
      "text/plain": [
       "Chemo              Chemo  NoChemo\n",
       "ERpos    PRpos                   \n",
       "NEGATIVE NEGATIVE     24       18\n",
       "         POSITIVE      9        9\n",
       "POSITIVE NEGATIVE      8       15\n",
       "         POSITIVE     34       44"
      ]
     },
     "execution_count": 37,
     "metadata": {},
     "output_type": "execute_result"
    }
   ],
   "source": [
    "pd.crosstab([clim.ERpos, clim.PRpos],clim.Chemo)"
   ]
  },
  {
   "cell_type": "markdown",
   "metadata": {},
   "source": [
    "### Missing data\n",
    "There are 24 samples missing both ER and PR status"
   ]
  },
  {
   "cell_type": "code",
   "execution_count": 38,
   "metadata": {},
   "outputs": [
    {
     "data": {
      "text/plain": [
       "ERpos         24\n",
       "PRpos         24\n",
       "Chemo          0\n",
       "Recurrence     0\n",
       "dtype: int64"
      ]
     },
     "execution_count": 38,
     "metadata": {},
     "output_type": "execute_result"
    }
   ],
   "source": [
    "clim[['ERpos', 'PRpos','Chemo', 'Recurrence']].isna().sum()\n"
   ]
  },
  {
   "cell_type": "markdown",
   "metadata": {},
   "source": [
    "Whenever ERpos is missing, it is also missing for PRpos."
   ]
  },
  {
   "cell_type": "code",
   "execution_count": 39,
   "metadata": {},
   "outputs": [
    {
     "data": {
      "text/plain": [
       "24"
      ]
     },
     "execution_count": 39,
     "metadata": {},
     "output_type": "execute_result"
    }
   ],
   "source": [
    "len(clim[clim.ERpos.isna() & clim.PRpos.isna()])"
   ]
  },
  {
   "cell_type": "markdown",
   "metadata": {},
   "source": [
    "## Is recurrency rate related to chemotherapy?\n",
    "Below are the relative and absolute frequencies in a contingency table for recurrence and chemotherapy"
   ]
  },
  {
   "cell_type": "code",
   "execution_count": 40,
   "metadata": {},
   "outputs": [
    {
     "data": {
      "text/html": [
       "<div>\n",
       "<style scoped>\n",
       "    .dataframe tbody tr th:only-of-type {\n",
       "        vertical-align: middle;\n",
       "    }\n",
       "\n",
       "    .dataframe tbody tr th {\n",
       "        vertical-align: top;\n",
       "    }\n",
       "\n",
       "    .dataframe thead th {\n",
       "        text-align: right;\n",
       "    }\n",
       "</style>\n",
       "<table border=\"1\" class=\"dataframe\">\n",
       "  <thead>\n",
       "    <tr style=\"text-align: right;\">\n",
       "      <th>Recurrence</th>\n",
       "      <th>0</th>\n",
       "      <th>1</th>\n",
       "    </tr>\n",
       "    <tr>\n",
       "      <th>Chemo</th>\n",
       "      <th></th>\n",
       "      <th></th>\n",
       "    </tr>\n",
       "  </thead>\n",
       "  <tbody>\n",
       "    <tr>\n",
       "      <th>Chemo</th>\n",
       "      <td>0.722222</td>\n",
       "      <td>0.277778</td>\n",
       "    </tr>\n",
       "    <tr>\n",
       "      <th>NoChemo</th>\n",
       "      <td>0.747368</td>\n",
       "      <td>0.252632</td>\n",
       "    </tr>\n",
       "  </tbody>\n",
       "</table>\n",
       "</div>"
      ],
      "text/plain": [
       "Recurrence         0         1\n",
       "Chemo                         \n",
       "Chemo       0.722222  0.277778\n",
       "NoChemo     0.747368  0.252632"
      ]
     },
     "execution_count": 40,
     "metadata": {},
     "output_type": "execute_result"
    }
   ],
   "source": [
    "pd.crosstab(clim.Chemo,clim.Recurrence, normalize='index')"
   ]
  },
  {
   "cell_type": "code",
   "execution_count": 41,
   "metadata": {},
   "outputs": [
    {
     "data": {
      "text/html": [
       "<div>\n",
       "<style scoped>\n",
       "    .dataframe tbody tr th:only-of-type {\n",
       "        vertical-align: middle;\n",
       "    }\n",
       "\n",
       "    .dataframe tbody tr th {\n",
       "        vertical-align: top;\n",
       "    }\n",
       "\n",
       "    .dataframe thead th {\n",
       "        text-align: right;\n",
       "    }\n",
       "</style>\n",
       "<table border=\"1\" class=\"dataframe\">\n",
       "  <thead>\n",
       "    <tr style=\"text-align: right;\">\n",
       "      <th>Recurrence</th>\n",
       "      <th>0</th>\n",
       "      <th>1</th>\n",
       "    </tr>\n",
       "    <tr>\n",
       "      <th>Chemo</th>\n",
       "      <th></th>\n",
       "      <th></th>\n",
       "    </tr>\n",
       "  </thead>\n",
       "  <tbody>\n",
       "    <tr>\n",
       "      <th>Chemo</th>\n",
       "      <td>65</td>\n",
       "      <td>25</td>\n",
       "    </tr>\n",
       "    <tr>\n",
       "      <th>NoChemo</th>\n",
       "      <td>71</td>\n",
       "      <td>24</td>\n",
       "    </tr>\n",
       "  </tbody>\n",
       "</table>\n",
       "</div>"
      ],
      "text/plain": [
       "Recurrence   0   1\n",
       "Chemo             \n",
       "Chemo       65  25\n",
       "NoChemo     71  24"
      ]
     },
     "execution_count": 41,
     "metadata": {},
     "output_type": "execute_result"
    }
   ],
   "source": [
    "t_rec = pd.crosstab(clim.Chemo,clim.Recurrence)\n",
    "t_rec"
   ]
  },
  {
   "cell_type": "markdown",
   "metadata": {},
   "source": [
    "Recurrence rate for those undertaken Chemo is actually higher than the rate for those that did not have chemotherapy. We can still test if the rate is the same for both groups using a Chi-square test. That is H0: p1 = p2  where p1 is the recurrence proportion for those who had chemo and p2 the proportion for those who didn't have chemo."
   ]
  },
  {
   "cell_type": "code",
   "execution_count": 43,
   "metadata": {},
   "outputs": [
    {
     "name": "stdout",
     "output_type": "stream",
     "text": [
      "p-value=0.6985\n",
      "Expected values:\n",
      " [[66.16216216 23.83783784]\n",
      " [69.83783784 25.16216216]]\n"
     ]
    }
   ],
   "source": [
    "stat, p, dof, expected = scs.chi2_contingency(t_rec, correction=False)  \n",
    "print('p-value=%.4f' % (p))\n",
    "print('Expected values:\\n',expected)"
   ]
  },
  {
   "cell_type": "markdown",
   "metadata": {},
   "source": [
    "The alternative hypothesis is not rejected (p-value=0.6985). Therefore, there is not statistical evidence to think that the proportions differ."
   ]
  },
  {
   "cell_type": "markdown",
   "metadata": {},
   "source": [
    "## Does treatment have an effect on recurrence?\n",
    "The focus of the study is the effect of chemotherapy. However Tamoxifen was considered as an additional treatment; And a group of patients with no treatment is available too leaving the experiment with three groups to compare from. Tamoxifen is actually the group with the lowest recurrency rate. Is the difference statistically significant?  \n",
    "\n",
    "First we will check absolute and relative frequencies with contingency tables:"
   ]
  },
  {
   "cell_type": "code",
   "execution_count": 44,
   "metadata": {},
   "outputs": [
    {
     "data": {
      "text/html": [
       "<div>\n",
       "<style scoped>\n",
       "    .dataframe tbody tr th:only-of-type {\n",
       "        vertical-align: middle;\n",
       "    }\n",
       "\n",
       "    .dataframe tbody tr th {\n",
       "        vertical-align: top;\n",
       "    }\n",
       "\n",
       "    .dataframe thead th {\n",
       "        text-align: right;\n",
       "    }\n",
       "</style>\n",
       "<table border=\"1\" class=\"dataframe\">\n",
       "  <thead>\n",
       "    <tr style=\"text-align: right;\">\n",
       "      <th>Recurrence</th>\n",
       "      <th>0</th>\n",
       "      <th>1</th>\n",
       "    </tr>\n",
       "    <tr>\n",
       "      <th>Treatment</th>\n",
       "      <th></th>\n",
       "      <th></th>\n",
       "    </tr>\n",
       "  </thead>\n",
       "  <tbody>\n",
       "    <tr>\n",
       "      <th>ADCHEM: Anthracycline</th>\n",
       "      <td>65</td>\n",
       "      <td>25</td>\n",
       "    </tr>\n",
       "    <tr>\n",
       "      <th>ADH:Tamoxifen</th>\n",
       "      <td>47</td>\n",
       "      <td>12</td>\n",
       "    </tr>\n",
       "    <tr>\n",
       "      <th>No Treatment</th>\n",
       "      <td>24</td>\n",
       "      <td>12</td>\n",
       "    </tr>\n",
       "  </tbody>\n",
       "</table>\n",
       "</div>"
      ],
      "text/plain": [
       "Recurrence              0   1\n",
       "Treatment                    \n",
       "ADCHEM: Anthracycline  65  25\n",
       "ADH:Tamoxifen          47  12\n",
       "No Treatment           24  12"
      ]
     },
     "execution_count": 44,
     "metadata": {},
     "output_type": "execute_result"
    }
   ],
   "source": [
    "t_allT = pd.crosstab(clim.Treatment,clim.Recurrence)\n",
    "t_allT"
   ]
  },
  {
   "cell_type": "code",
   "execution_count": 45,
   "metadata": {},
   "outputs": [
    {
     "data": {
      "text/html": [
       "<div>\n",
       "<style scoped>\n",
       "    .dataframe tbody tr th:only-of-type {\n",
       "        vertical-align: middle;\n",
       "    }\n",
       "\n",
       "    .dataframe tbody tr th {\n",
       "        vertical-align: top;\n",
       "    }\n",
       "\n",
       "    .dataframe thead th {\n",
       "        text-align: right;\n",
       "    }\n",
       "</style>\n",
       "<table border=\"1\" class=\"dataframe\">\n",
       "  <thead>\n",
       "    <tr style=\"text-align: right;\">\n",
       "      <th>Recurrence</th>\n",
       "      <th>0</th>\n",
       "      <th>1</th>\n",
       "    </tr>\n",
       "    <tr>\n",
       "      <th>Treatment</th>\n",
       "      <th></th>\n",
       "      <th></th>\n",
       "    </tr>\n",
       "  </thead>\n",
       "  <tbody>\n",
       "    <tr>\n",
       "      <th>ADCHEM: Anthracycline</th>\n",
       "      <td>0.722222</td>\n",
       "      <td>0.277778</td>\n",
       "    </tr>\n",
       "    <tr>\n",
       "      <th>ADH:Tamoxifen</th>\n",
       "      <td>0.796610</td>\n",
       "      <td>0.203390</td>\n",
       "    </tr>\n",
       "    <tr>\n",
       "      <th>No Treatment</th>\n",
       "      <td>0.666667</td>\n",
       "      <td>0.333333</td>\n",
       "    </tr>\n",
       "  </tbody>\n",
       "</table>\n",
       "</div>"
      ],
      "text/plain": [
       "Recurrence                    0         1\n",
       "Treatment                                \n",
       "ADCHEM: Anthracycline  0.722222  0.277778\n",
       "ADH:Tamoxifen          0.796610  0.203390\n",
       "No Treatment           0.666667  0.333333"
      ]
     },
     "execution_count": 45,
     "metadata": {},
     "output_type": "execute_result"
    }
   ],
   "source": [
    "pd.crosstab(clim.Treatment,clim.Recurrence,normalize='index')"
   ]
  },
  {
   "cell_type": "markdown",
   "metadata": {},
   "source": [
    "Now we can test for difference in proportions among the three groups"
   ]
  },
  {
   "cell_type": "code",
   "execution_count": 46,
   "metadata": {},
   "outputs": [
    {
     "name": "stdout",
     "output_type": "stream",
     "text": [
      "p-value=0.3519\n",
      "Expected values:\n",
      " [[66.16216216 23.83783784]\n",
      " [43.37297297 15.62702703]\n",
      " [26.46486486  9.53513514]]\n"
     ]
    }
   ],
   "source": [
    "stat, p, dof, expected = scs.chi2_contingency(t_allT)  \n",
    "print('p-value=%.4f' % (p))\n",
    "print('Expected values:\\n',expected)"
   ]
  },
  {
   "cell_type": "markdown",
   "metadata": {},
   "source": [
    "The null hypothesis for equallity of proportions (H0: p1=p2=p3) is not rejected (p-value = 0.3519). There is no statiscal evidence to think that there is a difference of proportions among the three groups"
   ]
  },
  {
   "cell_type": "markdown",
   "metadata": {},
   "source": [
    "## Conclusions"
   ]
  },
  {
   "cell_type": "markdown",
   "metadata": {},
   "source": [
    "- Recurrency rate is higher in the sample for those that went under chemo than for those who didn't. Difference in recurrence rate for these two groups is not statistically significant (p-value=0.6985)\n",
    "- There is not evidence to indicate that recurrency rate is associated to treatment options (p-value=0.3519: No-treatment, Tamoxifen, Chemo)"
   ]
  }
 ],
 "metadata": {
  "kernelspec": {
   "display_name": "Python 3",
   "language": "python",
   "name": "python3"
  },
  "language_info": {
   "codemirror_mode": {
    "name": "ipython",
    "version": 3
   },
   "file_extension": ".py",
   "mimetype": "text/x-python",
   "name": "python",
   "nbconvert_exporter": "python",
   "pygments_lexer": "ipython3",
   "version": "3.7.7"
  }
 },
 "nbformat": 4,
 "nbformat_minor": 2
}
